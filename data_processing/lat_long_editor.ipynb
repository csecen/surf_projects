{
 "cells": [
  {
   "cell_type": "code",
   "execution_count": 1,
   "metadata": {},
   "outputs": [],
   "source": [
    "import folium\n",
    "import pandas as pd\n",
    "import numpy as np\n",
    "import time\n",
    "from IPython.display import clear_output"
   ]
  },
  {
   "cell_type": "code",
   "execution_count": 2,
   "metadata": {},
   "outputs": [],
   "source": [
    "columns = ['Country', 'Break', 'Lat', 'Long']  # Replace with your column names\n",
    "df = pd.read_csv('../data/surf_breaks.csv', usecols=columns)\n",
    "df.Break = df.Break.str.lower().str.replace(\"'\", '').str.replace(' ', '_')\n",
    "df = df[:10]\n",
    "new_coords = np.zeros((len(df),2))"
   ]
  },
  {
   "cell_type": "code",
   "execution_count": null,
   "metadata": {},
   "outputs": [],
   "source": [
    "data = None\n",
    "\n",
    "for idx in range(len(df)):\n",
    "    lat = df.iloc[idx].Lat\n",
    "    long = df.iloc[idx].Long\n",
    "\n",
    "    m = folium.Map(location=[lat,long], zoom_start=18)\n",
    "    tile = folium.TileLayer(\n",
    "            tiles = 'https://server.arcgisonline.com/ArcGIS/rest/services/World_Imagery/MapServer/tile/{z}/{y}/{x}',\n",
    "            attr = 'Esri',\n",
    "            name = 'Esri Satellite',\n",
    "            overlay = False,\n",
    "            control = True\n",
    "        ).add_to(m)\n",
    "    \n",
    "    kw = {\"prefix\": \"fa\", \"color\": \"green\", \"icon\": \"arrow-up\"}\n",
    "    angle = 180\n",
    "    icon = folium.Icon(angle=angle, **kw)\n",
    "    folium.Marker(location=[lat, long], icon=icon, tooltip=str(angle)).add_to(m)\n",
    "\n",
    "    m.add_child(\n",
    "        folium.ClickForMarker('${lat},${lng}')\n",
    "    )\n",
    "\n",
    "    display(m)\n",
    "    time.sleep(10)\n",
    "\n",
    "    copied_coords = input('New Coordinates: ')\n",
    "    if copied_coords != 'n':\n",
    "        split_data = copied_coords.split(',')\n",
    "        new_coords[idx][0] = float(split_data[0])\n",
    "        new_coords[idx][1] = float(split_data[1])\n",
    "    else:\n",
    "        new_coords[idx][0] = float(lat)\n",
    "        new_coords[idx][1] = float(long)\n",
    "\n",
    "    time.sleep(5)\n",
    "    clear_output(wait=True)"
   ]
  }
 ],
 "metadata": {
  "kernelspec": {
   "display_name": "surf",
   "language": "python",
   "name": "python3"
  },
  "language_info": {
   "codemirror_mode": {
    "name": "ipython",
    "version": 3
   },
   "file_extension": ".py",
   "mimetype": "text/x-python",
   "name": "python",
   "nbconvert_exporter": "python",
   "pygments_lexer": "ipython3",
   "version": "3.9.13"
  }
 },
 "nbformat": 4,
 "nbformat_minor": 2
}
